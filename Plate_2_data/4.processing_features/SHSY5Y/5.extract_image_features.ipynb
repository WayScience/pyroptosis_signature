{
 "cells": [
  {
   "attachments": {},
   "cell_type": "markdown",
   "metadata": {},
   "source": [
    "# Extract image features\n",
    "\n",
    "**Note:** This does not include any processing of the features (e.g. normalization/feature selection/etc.)"
   ]
  },
  {
   "attachments": {},
   "cell_type": "markdown",
   "metadata": {},
   "source": [
    "## Import libraries"
   ]
  },
  {
   "cell_type": "code",
   "execution_count": null,
   "metadata": {},
   "outputs": [],
   "source": [
    "import pathlib\n",
    "import pandas as pd\n",
    "\n",
    "from pycytominer import annotate\n",
    "from pycytominer.cyto_utils import output\n",
    "\n",
    "import sys\n",
    "sys.path.append(\"../../../utils\")\n",
    "import extract_image_features_utils as extract_utils"
   ]
  },
  {
   "attachments": {},
   "cell_type": "markdown",
   "metadata": {},
   "source": [
    "## Set paths and constants"
   ]
  },
  {
   "cell_type": "code",
   "execution_count": null,
   "metadata": {},
   "outputs": [],
   "source": [
    "# Set file and directory constants\n",
    "cp_output_dir = pathlib.Path(\"../../3.cellprofiler_analysis/analysis_output\")\n",
    "features_output_dir = pathlib.Path(\"./data\")\n",
    "platemap_df = pd.read_csv(pathlib.Path(\"../../../metadata/Interstellar_plate2_platemap.csv\"))\n",
    "\n",
    "# image categories/measurements to extract\n",
    "image_feature_categories = [\"Image_Correlation\", \"Image_Granularity\", \"Image_Texture\", \"Image_Intensity\"]\n",
    "image_cols=\"ImageNumber\"\n",
    "# strata are the columns that can be used to groupby and/or aggregate, but I use it to make sure I have all\n",
    "# metadata I need to use to identify what exact image the features come from\n",
    "strata=[\"Image_Metadata_Well\", \"Image_Metadata_Plate\", \"Image_Metadata_Site\"]\n",
    "\n",
    "# set directory for sqlite files\n",
    "sqlite_dir = pathlib.Path(\n",
    "    \"/projects/mlippincott@xsede.org/\"\n",
    ").resolve(strict=True)\n",
    "\n",
    "# dictionary with info for the sqlite file from each run\n",
    "run_info_dictionary = {\n",
    "    \"batch_1\": {\n",
    "        # path to outputted SQLite file\n",
    "        \"source_path\": str(\n",
    "            pathlib.Path(\n",
    "                f\"{sqlite_dir}/PBMC_batch_1.sqlite\"\n",
    "            )\n",
    "        ),\n",
    "        \"dest_path\": str(pathlib.Path(f\"{features_output_dir}/PBMC_batch_1_image_quality.parquet\")),\n",
    "    },\n",
    "    \"batch_2\": {\n",
    "        # path to outputted SQLite file\n",
    "        \"source_path\": str(\n",
    "            pathlib.Path(\n",
    "                f\"{sqlite_dir}/PBMC_batch_2.sqlite\"\n",
    "            )\n",
    "        ),\n",
    "        \"dest_path\": str(pathlib.Path(f\"{features_output_dir}/PBMC_batch_2_image_quality.parquet\")),\n",
    "    },\n",
    "    \"batch_3\": {\n",
    "        # path to outputted SQLite file\n",
    "        \"source_path\": str(\n",
    "            pathlib.Path(\n",
    "                f\"{sqlite_dir}/PBMC_batch_3.sqlite\"\n",
    "            )\n",
    "        ),\n",
    "        \"dest_path\": str(pathlib.Path(f\"{features_output_dir}/PBMC_batch_3.parquet\")),\n",
    "    },\n",
    "    \"batch_4\": {\n",
    "        # path to outputted SQLite file\n",
    "        \"source_path\": str(\n",
    "            pathlib.Path(\n",
    "                f\"{sqlite_dir}/PBMC_batch_4.sqlite\"\n",
    "            )\n",
    "        ),\n",
    "        \"dest_path\": str(pathlib.Path(f\"{features_output_dir}/PBMC_batch_4.parquet\")),\n",
    "    },\n",
    "    \"batch_5\": {\n",
    "        # path to outputted SQLite file\n",
    "        \"source_path\": str(\n",
    "            pathlib.Path(\n",
    "                f\"{sqlite_dir}/PBMC_batch_5.sqlite\"\n",
    "            )\n",
    "        ),\n",
    "        \"dest_path\": str(pathlib.Path(f\"{features_output_dir}/PBMC_batch_5.parquet\")),\n",
    "    },\n",
    "    \"batch_6\": {\n",
    "        # path to outputted SQLite file\n",
    "        \"source_path\": str(\n",
    "            pathlib.Path(\n",
    "                f\"{sqlite_dir}/PBMC_batch_6.sqlite\"\n",
    "            )\n",
    "        ),\n",
    "        \"dest_path\": str(pathlib.Path(f\"{features_output_dir}/PBMC_batch_6.parquet\")),\n",
    "    },\n",
    "    \"batch_7\": {\n",
    "        # path to outputted SQLite file\n",
    "        \"source_path\": str(\n",
    "            pathlib.Path(\n",
    "                f\"{sqlite_dir}/PBMC_batch_7.sqlite\"\n",
    "            )\n",
    "        ),\n",
    "        \"dest_path\": str(pathlib.Path(f\"{features_output_dir}/PBMC_batch_7.parquet\")),\n",
    "    }   \n",
    "}\n"
   ]
  },
  {
   "attachments": {},
   "cell_type": "markdown",
   "metadata": {},
   "source": [
    "## Load in the `Per_Image` table as df for both SQLite files (each run) and combine into one df"
   ]
  },
  {
   "cell_type": "code",
   "execution_count": null,
   "metadata": {},
   "outputs": [],
   "source": [
    "# read in SQLite Per_Image table as dataframe for each run\n",
    "## First run\n",
    "sql_file_first_run = run_info_dictionary[\"batch_1\"][\"source_path\"]\n",
    "single_cell_file_first_run = f\"sqlite:///{cp_output_dir}/{sql_file_first_run}\"\n",
    "image_df_first_run = extract_utils.load_sqlite_as_df(\n",
    "    sqlite_file_path=single_cell_file_first_run, image_table_name=\"Per_Image\"\n",
    ")\n",
    "\n",
    "## Second run\n",
    "sql_file_second_run = run_info_dictionary[\"batch_2\"][\"source_path\"]\n",
    "single_cell_file_second_run = f\"sqlite:///{cp_output_dir}/{sql_file_second_run}\"\n",
    "image_df_second_run = extract_utils.load_sqlite_as_df(\n",
    "    sqlite_file_path=single_cell_file_second_run, image_table_name=\"Per_Image\"\n",
    ")\n",
    "\n",
    "## Third run\n",
    "sql_file_third_run = run_info_dictionary[\"batch_3\"][\"source_path\"]\n",
    "single_cell_file_third_run = f\"sqlite:///{cp_output_dir}/{sql_file_third_run}\"\n",
    "image_df_third_run = extract_utils.load_sqlite_as_df(\n",
    "    sqlite_file_path=single_cell_file_third_run, image_table_name=\"Per_Image\"\n",
    ")\n",
    "\n",
    "## Fourth run\n",
    "sql_file_fourth_run = run_info_dictionary[\"batch_4\"][\"source_path\"]\n",
    "single_cell_file_fourth_run = f\"sqlite:///{cp_output_dir}/{sql_file_fourth_run}\"\n",
    "image_df_fourth_run = extract_utils.load_sqlite_as_df(\n",
    "    sqlite_file_path=single_cell_file_fourth_run, image_table_name=\"Per_Image\"\n",
    ")\n",
    "\n",
    "## Fifth run\n",
    "sql_file_fifth_run = run_info_dictionary[\"batch_5\"][\"source_path\"]\n",
    "single_cell_file_fifth_run = f\"sqlite:///{cp_output_dir}/{sql_file_fifth_run}\"\n",
    "image_df_fifth_run = extract_utils.load_sqlite_as_df(\n",
    "    sqlite_file_path=single_cell_file_fifth_run, image_table_name=\"Per_Image\"\n",
    ")\n",
    "\n",
    "## Sixth run\n",
    "sql_file_sixth_run = run_info_dictionary[\"batch_6\"][\"source_path\"]\n",
    "single_cell_file_sixth_run = f\"sqlite:///{cp_output_dir}/{sql_file_sixth_run}\"\n",
    "image_df_sixth_run = extract_utils.load_sqlite_as_df(\n",
    "    sqlite_file_path=single_cell_file_sixth_run, image_table_name=\"Per_Image\"\n",
    ")\n",
    "\n",
    "## Seventh run\n",
    "sql_file_seventh_run = run_info_dictionary[\"batch_7\"][\"source_path\"]\n",
    "single_cell_file_seventh_run = f\"sqlite:///{cp_output_dir}/{sql_file_seventh_run}\"\n",
    "image_df_seventh_run = extract_utils.load_sqlite_as_df(\n",
    "    sqlite_file_path=single_cell_file_seventh_run, image_table_name=\"Per_Image\"\n",
    ")\n",
    "\n",
    "\n",
    "\n",
    "\n",
    "\n",
    "# merge the dataframes together into one combined run\n",
    "PBMC_run_df = pd.concat([image_df_first_run, image_df_second_run, image_df_third_run, image_df_fourth_run, image_df_fifth_run, image_df_sixth_run, image_df_seventh_run], ignore_index=True)\n",
    "\n",
    "print(PBMC_run_df.shape)\n",
    "PBMC_run_df.head()"
   ]
  },
  {
   "attachments": {},
   "cell_type": "markdown",
   "metadata": {},
   "source": [
    "## Extract the image features, annotate with metadata, and save as parquet file"
   ]
  },
  {
   "cell_type": "code",
   "execution_count": null,
   "metadata": {},
   "outputs": [],
   "source": [
    "# extract image quality features from merged PBMC runs image table df\n",
    "image_features_df = extract_utils.extract_image_features(\n",
    "    image_feature_categories=image_feature_categories,\n",
    "    image_df=PBMC_run_df,\n",
    "    image_cols=image_cols,\n",
    "    strata=strata\n",
    ")\n",
    "\n",
    "# annotate df with platemap file to include all metadata\n",
    "annotated_image_features_df = annotate(\n",
    "    profiles=image_features_df,\n",
    "    platemap=platemap_df,\n",
    "    join_on=[\"Metadata_well_id\", \"Image_Metadata_Well\"],\n",
    "    output_file=\"none\",\n",
    ")\n",
    "\n",
    "# output df as parquet file\n",
    "output(\n",
    "    df=annotated_image_features_df,\n",
    "    output_filename=pathlib.Path(f\"{features_output_dir}/plate2_PBMC_image_features.parquet\"),\n",
    "    output_type='parquet',\n",
    ")\n",
    "print(\"The image features for the PBMC cells have been extracted and saved!\")"
   ]
  },
  {
   "attachments": {},
   "cell_type": "markdown",
   "metadata": {},
   "source": [
    "## Confirm that the annotation worked\n",
    "\n",
    "Check to see that data doesn't show NaNs when there should be values."
   ]
  },
  {
   "cell_type": "code",
   "execution_count": null,
   "metadata": {},
   "outputs": [],
   "source": [
    "print(annotated_image_features_df.shape)\n",
    "annotated_image_features_df.head()"
   ]
  },
  {
   "cell_type": "code",
   "execution_count": null,
   "metadata": {},
   "outputs": [],
   "source": [
    "annotated_image_features_df[\"Metadata_inhibitor\"].unique()"
   ]
  },
  {
   "cell_type": "code",
   "execution_count": null,
   "metadata": {},
   "outputs": [],
   "source": [
    "annotated_image_features_df[annotated_image_features_df[\"Metadata_inhibitor\"] == \"DMSO\"]"
   ]
  }
 ],
 "metadata": {
  "kernelspec": {
   "display_name": "Python 3",
   "language": "python",
   "name": "python3"
  },
  "language_info": {
   "codemirror_mode": {
    "name": "ipython",
    "version": 3
   },
   "file_extension": ".py",
   "mimetype": "text/x-python",
   "name": "python",
   "nbconvert_exporter": "python",
   "pygments_lexer": "ipython3",
   "version": "3.8.15"
  },
  "orig_nbformat": 4
 },
 "nbformat": 4,
 "nbformat_minor": 2
}
